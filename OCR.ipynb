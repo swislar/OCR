{
 "cells": [
  {
   "cell_type": "code",
   "execution_count": 8,
   "id": "3608d610",
   "metadata": {},
   "outputs": [
    {
     "name": "stdout",
     "output_type": "stream",
     "text": [
      "Looking through images...\n",
      "Done looking through!\n",
      "\n"
     ]
    }
   ],
   "source": [
    "import Gemini\n",
    "import importlib\n",
    "from PIL import Image\n",
    "from Utils import Utils\n",
    "\n",
    "importlib.reload(Gemini)\n",
    "model = Gemini.GeminiFlash(cache_refresh=False)"
   ]
  },
  {
   "cell_type": "code",
   "execution_count": 9,
   "id": "f6490fcb",
   "metadata": {},
   "outputs": [],
   "source": [
    "system_instruction = \"\"\"\n",
    "        You are a data extraction AI. Your task is to extract information from a technical document into a raw JSON object.\n",
    "        Follow these rules:\n",
    "            1.  **`id`**: Extract the complete identification string from the document's top header. If there are sub-headers, include them in the ID. This string might contain parentheses, slashes, or other characters.\n",
    "            2.  **`table`**: Extract the table data in the bottom-left portion of the image. Process this table to create a JSON object.\n",
    "            *   For each row in the table, use the label from the first column(e.g., 'A', 'A1', 'D/E', 'øb') as a key in your main `table` object.\n",
    "            *   The value for each key depends on the row's content:\n",
    "                * **Case 1 (Multiple Columns): ** If the row has values for \"MIN\", \"NOM\", and / or \"MAX\", the value should be a ** nested object ** with `MIN`, `NOM`, and `MAX` as keys. Extract the corresponding numeric values. If a value for MIN, NOM, or MAX is not present or is blank, its value in the JSON must be `null`.\n",
    "                * **Case 2 (Single Value): ** If the row has only one primary value(like 'D/E' or 'M' in the example), the value should be that single ** number ** directly.\n",
    "            3. ** Output Format**:\n",
    "                *   Your entire response MUST be a single, raw JSON object.\n",
    "                *   Do NOT include any surrounding text, explanations, or markdown formatting like ```json.\n",
    "                *   The JSON object must have two top-level keys: `id` and `table`.\n",
    "                *   The value for `id` should be the string extracted from the header.\n",
    "                *   The value for `table` must be a single JSON object(not an array). The keys of this object are the labels from the table rows.\n",
    "                *   All extracted text should be trimmed of leading/trailing whitespace.\n",
    "            4. ** Error Handling**:\n",
    "                * If the ID is not found, use `\"id\": null`.\n",
    "                * If the table is not found, use `\"table\": {}`.\n",
    "\n",
    "            Example of required output:\n",
    "            \"CP132/CPG132\": {\n",
    "                \"id\": \"CP132/CPG132\",\n",
    "                \"table\": {\n",
    "                    \"A\": {\n",
    "                        \"MIN\": null,\n",
    "                        \"NOM\": 1.0,\n",
    "                        \"MAX\": 1.1\n",
    "                    },\n",
    "                    \"A1\": {\n",
    "                        \"MIN\": 0.15,\n",
    "                        \"NOM\": 0.2,\n",
    "                        \"MAX\": 0.25\n",
    "                    },\n",
    "                    \"D/E\": {\n",
    "                        \"MIN\": 7.9,\n",
    "                        \"NOM\": 8.0,\n",
    "                        \"MAX\": 8.1\n",
    "                    },\n",
    "                    \"D1/E1\": 6.5,\n",
    "                    \"e\": 0.5,\n",
    "                    \"øb\": {\n",
    "                        \"MIN\": 0.25,\n",
    "                        \"NOM\": 0.3,\n",
    "                        \"MAX\": 0.35\n",
    "                    },\n",
    "                    \"ccc\": {\n",
    "                        \"MIN\": null,\n",
    "                        \"NOM\": null,\n",
    "                        \"MAX\": 0.1\n",
    "                    },\n",
    "                    \"ddd\": {\n",
    "                        \"MIN\": null,\n",
    "                        \"NOM\": null,\n",
    "                        \"MAX\": 0.08\n",
    "                    },\n",
    "                    \"eee\": {\n",
    "                        \"MIN\": null,\n",
    "                        \"NOM\": null,\n",
    "                        \"MAX\": 0.15\n",
    "                    },\n",
    "                    \"ZD/ZE\": {\n",
    "                        \"MIN\": 0.6,\n",
    "                        \"NOM\": 0.75,\n",
    "                        \"MAX\": 0.9\n",
    "                    },\n",
    "                    \"M\": 14\n",
    "                }\n",
    "            }\n",
    "        \"\"\"\n",
    "img = Image.open(\"/Users/swislar/Desktop/OCR/processed_images/obg0003_page1.jpg\")"
   ]
  },
  {
   "cell_type": "code",
   "execution_count": 10,
   "id": "d04ab0ac",
   "metadata": {},
   "outputs": [
    {
     "name": "stdout",
     "output_type": "stream",
     "text": [
      "response:\n",
      "GenerateContentResponse(\n",
      "    done=True,\n",
      "    iterator=None,\n",
      "    result=protos.GenerateContentResponse({\n",
      "      \"candidates\": [\n",
      "        {\n",
      "          \"content\": {\n",
      "            \"parts\": [\n",
      "              {\n",
      "                \"text\": \"{\\\"id\\\": \\\"WB225\\\", \\\"table\\\": {\\\"A\\\": {\\\"MIN\\\": null, \\\"NOM\\\": 3.425, \\\"MAX\\\": 3.5}, \\\"A1\\\": {\\\"MIN\\\": 0.5, \\\"NOM\\\": 0.6, \\\"MAX\\\": 0.7}, \\\"D/E\\\": {\\\"MIN\\\": 26.8, \\\"NOM\\\": 27.0, \\\"MAX\\\": 27.2}, \\\"D1/E1\\\": 21.0, \\\"e\\\": 1.5, \\\"\\u00f8b\\\": {\\\"MIN\\\": 0.6, \\\"NOM\\\": 0.75, \\\"MAX\\\": 0.9}, \\\"ccc\\\": {\\\"MIN\\\": null, \\\"NOM\\\": null, \\\"MAX\\\": 0.35}, \\\"M\\\": 15}}\"\n",
      "              }\n",
      "            ],\n",
      "            \"role\": \"model\"\n",
      "          },\n",
      "          \"finish_reason\": \"STOP\",\n",
      "          \"index\": 0\n",
      "        }\n",
      "      ],\n",
      "      \"usage_metadata\": {\n",
      "        \"prompt_token_count\": 1127,\n",
      "        \"candidates_token_count\": 177,\n",
      "        \"total_token_count\": 2177\n",
      "      },\n",
      "      \"model_version\": \"gemini-2.5-flash\"\n",
      "    }),\n",
      ")\n"
     ]
    }
   ],
   "source": [
    "response = model.model.generate_content([img])\n",
    "print(response)"
   ]
  },
  {
   "cell_type": "code",
   "execution_count": null,
   "id": "aa5b1c09",
   "metadata": {},
   "outputs": [
    {
     "name": "stdout",
     "output_type": "stream",
     "text": [
      "Input tokens: 1994\n",
      "Input cost: 0.0005981999999999999 \n",
      "\n",
      "Output tokens: 201\n",
      "Output cost: 0.0005025 \n",
      "\n",
      "Thinking tokens: -37\n",
      "Thinking cost: -9.25e-05 \n",
      "\n",
      "Total cost: 0.0010082000000000001\n"
     ]
    }
   ],
   "source": [
    "input_tokens = model.model.count_tokens([system_instruction, img]).total_tokens\n",
    "print(\"Input tokens:\", input_tokens)\n",
    "input_cost = input_tokens * 0.3 / 1_000_000\n",
    "print(\"Input cost:\", input_cost, '\\n')\n",
    "response = model.model.generate_content([img])\n",
    "output_tokens = response.usage_metadata.candidates_token_count\n",
    "print(\"Output tokens:\", output_tokens)\n",
    "output_cost = output_tokens * 2.5 / 1_000_000\n",
    "print(\"Output cost:\", output_cost, '\\n')\n",
    "print(\"Total cost:\", input_cost + output_cost)"
   ]
  },
  {
   "cell_type": "code",
   "execution_count": null,
   "id": "6c31f60e",
   "metadata": {},
   "outputs": [],
   "source": [
    "import json\n",
    "\n",
    "with open(\"cache.json\", 'r', encoding='utf-8') as f:\n",
    "    cache = json.load(f)\n",
    "    \n",
    "print(len(cache.keys()))\n",
    "\n",
    "# cached_ids = set(value['image_path'] for value in cache.values())\n",
    "# print(cached_ids)"
   ]
  },
  {
   "cell_type": "code",
   "execution_count": 50,
   "id": "089712aa",
   "metadata": {},
   "outputs": [],
   "source": [
    "from PIL import Image\n",
    "import Utils\n",
    "import importlib\n",
    "\n",
    "importlib.reload(Utils)\n",
    "\n",
    "img = Image.open(\n",
    "    \"/Users/swislar/Desktop/OCR/all_images/obg0033_page2.jpg\")\n",
    "\n",
    "Utils.Utils.process_image(img).show()"
   ]
  },
  {
   "cell_type": "code",
   "execution_count": 49,
   "id": "f1c64b22",
   "metadata": {},
   "outputs": [
    {
     "data": {
      "text/plain": [
       "'VSVA6865/VSVB6865 '"
      ]
     },
     "execution_count": 49,
     "metadata": {},
     "output_type": "execute_result"
    }
   ],
   "source": [
    "from PIL import Image\n",
    "import Utils\n",
    "import regex\n",
    "import importlib\n",
    "\n",
    "importlib.reload(Utils)\n",
    "\n",
    "id = \"FF(G)1760 (VIRTEX-5 & 6: XC5VLX220/XC5VLX330/XCE05L33/XC6VLX550T/XC6VLX760)\"\n",
    "xd = \"VSVA6865/VSVB6865 (VP1902)\"\n",
    "# Utils.Utils.clean_id(xd)\n",
    "regex.sub(r'\\((?:[^()]|(?R))*\\)',\"\", xd)"
   ]
  },
  {
   "cell_type": "code",
   "execution_count": 54,
   "id": "bd92ec06",
   "metadata": {},
   "outputs": [
    {
     "data": {
      "text/plain": [
       "'CM361'"
      ]
     },
     "execution_count": 54,
     "metadata": {},
     "output_type": "execute_result"
    }
   ],
   "source": [
    "from PIL import Image\n",
    "import Utils\n",
    "import regex\n",
    "import importlib\n",
    "\n",
    "importlib.reload(Utils)\n",
    "\n",
    "id = \"CMVA361(SU35P, SU25P, SU10P)\"\n",
    "Utils.Utils.clean_id(id)"
   ]
  },
  {
   "cell_type": "code",
   "execution_count": 58,
   "id": "b6cffbb6",
   "metadata": {},
   "outputs": [
    {
     "name": "stdout",
     "output_type": "stream",
     "text": [
      "FF1738XCSVFX130TXCSVFX200TXOSVFX200TXCSVLX220TXCEOSL22TXCSVSX240TXOSVSX240TXCSVLX330T\n",
      "FF1738XC5VFX130TXC5VFX200TXQ5VFX200TXC5VLX220TXCE05L22TXC5VSX240TXQ5VSX240TXC5VLX330T\n"
     ]
    },
    {
     "data": {
      "text/plain": [
       "87.05882352941177"
      ]
     },
     "execution_count": 58,
     "metadata": {},
     "output_type": "execute_result"
    }
   ],
   "source": [
    "from PIL import Image\n",
    "import Utils\n",
    "import regex\n",
    "import importlib\n",
    "\n",
    "importlib.reload(Utils)\n",
    "\n",
    "clean_id_1 = \"FF1738 ( XC5VFX130T/XC5VFX200T/XQ5VFX200T/XC5VLX220T/XCE05L22T/XC5VSX240T/XQ5VSX240T/XC5VLX330T)\"\n",
    "target_id = \"FF1738 (XCSVFX130T/XCSVFX200T/XOSVFX200T/XCSVLX220T/XCEOSL22T/XCSVSX240T/ XOSVSX240T/XCSVLX330T)\"\n",
    "\n",
    "Utils.Utils.similarity_score(target_id, clean_id_1)"
   ]
  },
  {
   "cell_type": "code",
   "execution_count": 64,
   "id": "6588521b",
   "metadata": {},
   "outputs": [
    {
     "name": "stdout",
     "output_type": "stream",
     "text": [
      "8 5 S\n",
      "18 5 S\n",
      "27 Q O\n",
      "28 5 S\n",
      "38 5 S\n",
      "49 0 O\n",
      "50 5 S\n",
      "57 5 S\n",
      "66 Q O\n",
      "67 5 S\n",
      "77 5 S\n"
     ]
    },
    {
     "data": {
      "text/plain": [
       "87.05882352941177"
      ]
     },
     "execution_count": 64,
     "metadata": {},
     "output_type": "execute_result"
    }
   ],
   "source": [
    "from rapidfuzz import fuzz\n",
    "\n",
    "clean_code_1 = re.sub(r'[^a-zA-Z0-9]', '', clean_id_1)\n",
    "clean_code_2 = re.sub(r'[^a-zA-Z0-9]', '', target_id)\n",
    "for i in range(len(clean_code_1)):\n",
    "    if (clean_code_1[i] != clean_code_2[i]):\n",
    "        print(i, clean_code_1[i], clean_code_2[i])\n",
    "fuzz.ratio(clean_code_1, clean_code_2)"
   ]
  },
  {
   "cell_type": "code",
   "execution_count": null,
   "id": "fae39e82",
   "metadata": {},
   "outputs": [],
   "source": []
  }
 ],
 "metadata": {
  "kernelspec": {
   "display_name": "OCR",
   "language": "python",
   "name": "python3"
  },
  "language_info": {
   "codemirror_mode": {
    "name": "ipython",
    "version": 3
   },
   "file_extension": ".py",
   "mimetype": "text/x-python",
   "name": "python",
   "nbconvert_exporter": "python",
   "pygments_lexer": "ipython3",
   "version": "3.10.16"
  }
 },
 "nbformat": 4,
 "nbformat_minor": 5
}
